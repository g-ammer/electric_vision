{
 "cells": [
  {
   "cell_type": "code",
   "execution_count": 1,
   "metadata": {},
   "outputs": [],
   "source": [
    "%matplotlib inline\n",
    "import numpy as np\n",
    "import matplotlib.pyplot as plt\n",
    "import pandas as pd\n",
    "import seaborn as sb\n",
    "import os\n",
    "import scipy.io\n",
    "from scipy import stats"
   ]
  },
  {
   "cell_type": "code",
   "execution_count": 2,
   "metadata": {},
   "outputs": [],
   "source": [
    "# Import data from mat-file\n",
    "\n",
    "data = scipy.io.loadmat('SQWEdges_cellmeans_Ctrl.mat')\n",
    "SQWEdges_cellmeans_Ctrl = data['cellmeans']\n",
    "data = scipy.io.loadmat('SQWEdges_cellmeans_shakB2.mat')\n",
    "SQWEdges_cellmeans_shakB2 = data['cellmeans']\n",
    "data = scipy.io.loadmat('SQWEdges_cellmeans_shakB_RNAi.mat')\n",
    "SQWEdges_cellmeans_shakB_RNAi = data['cellmeans']"
   ]
  },
  {
   "cell_type": "code",
   "execution_count": 3,
   "metadata": {},
   "outputs": [
    {
     "data": {
      "text/plain": [
       "array([ 9.37001653,  8.99892531, 12.94125073,  6.59298518,  9.54264829,\n",
       "        9.66085306, 12.65049434, 10.42913067,  8.90397931, 12.45628061,\n",
       "       10.8673664 , 13.59065528, 13.48145616,  9.85218868,  6.94556993,\n",
       "       11.56458736])"
      ]
     },
     "execution_count": 3,
     "metadata": {},
     "output_type": "execute_result"
    }
   ],
   "source": [
    "SQWEdges_cellmeans_Ctrl[:,0]"
   ]
  },
  {
   "cell_type": "code",
   "execution_count": 23,
   "metadata": {},
   "outputs": [
    {
     "data": {
      "image/png": "[encoded data removed]",
      "text/plain": [
       "<Figure size 432x288 with 2 Axes>"
      ]
     },
     "metadata": {},
     "output_type": "display_data"
    }
   ],
   "source": [
    "# Make Figure for SQWEdges Response\n",
    "\n",
    "fig = plt.figure(figsize = (6,4))\n",
    "plt.subplots_adjust(wspace=0.5)\n",
    "w=0.7\n",
    "ax = fig.add_subplot(121)\n",
    "ax.bar(0,height=[np.mean(SQWEdges_cellmeans_Ctrl[:,0])],width=w,color='0.6',yerr=[stats.sem(SQWEdges_cellmeans_Ctrl[:,0])])\n",
    "ax.bar(1,height=[np.mean(SQWEdges_cellmeans_shakB2[:,0])],width=w,color='#FF7400',yerr=[stats.sem(SQWEdges_cellmeans_shakB2[:,0])])\n",
    "ax.bar(2,height=[np.mean(SQWEdges_cellmeans_shakB_RNAi[:,0])],width=w,color='#009999',yerr=[stats.sem(SQWEdges_cellmeans_shakB_RNAi[:,0])])\n",
    "ax.axhline(y=0, color='0.4', linewidth='1')\n",
    "\n",
    "for i in range(len(SQWEdges_cellmeans_Ctrl[:,0])):\n",
    "    ax.scatter(0 + np.random.random(1) * w/2 - w/4,SQWEdges_cellmeans_Ctrl[i,0], s=10, color='0.4', alpha=0.6, zorder = 2)\n",
    "for i in range(len(SQWEdges_cellmeans_shakB2[:,0])):\n",
    "    ax.scatter(1 + np.random.random(1) * w/2 - w/4,SQWEdges_cellmeans_shakB2[i,0], s=10, color='0.4', alpha=0.6, zorder = 2)\n",
    "for i in range(len(SQWEdges_cellmeans_shakB_RNAi[:,0])):\n",
    "    ax.scatter(2 + np.random.random(1) * w/2 - w/4,SQWEdges_cellmeans_shakB_RNAi[i,0], s=10, color='0.4', alpha=0.6, zorder = 2)      \n",
    "\n",
    "\n",
    "ax.spines[\"top\"].set_visible(False)\n",
    "ax.spines[\"right\"].set_visible(False)\n",
    "ax.set_ylabel('Response [mV]', size=11)\n",
    "ax.set_xticks([0,1,2])\n",
    "ax.set_xticklabels(('','ON PD',''), size=11)\n",
    "plt.ylim([-1,14])\n",
    "\n",
    "ax = fig.add_subplot(122)\n",
    "ax.bar(0,height=[np.mean(SQWEdges_cellmeans_Ctrl[:,1])],width=w,color='0.6',yerr=[stats.sem(SQWEdges_cellmeans_Ctrl[:,1])])\n",
    "ax.bar(1,height=[np.mean(SQWEdges_cellmeans_shakB2[:,1])],width=w,color='#FF7400',yerr=[stats.sem(SQWEdges_cellmeans_shakB2[:,1])])\n",
    "ax.bar(2,height=[np.mean(SQWEdges_cellmeans_shakB_RNAi[:,1])],width=w,color='#009999',yerr=[stats.sem(SQWEdges_cellmeans_shakB_RNAi[:,1])])\n",
    "ax.axhline(y=0, color='0.4', linewidth='1')\n",
    "\n",
    "for i in range(len(SQWEdges_cellmeans_Ctrl[:,1])):\n",
    "    ax.scatter(0 + np.random.random(1) * w/2 - w/4,SQWEdges_cellmeans_Ctrl[i,1], s=10, color='0.4', alpha=0.6, zorder = 2)\n",
    "for i in range(len(SQWEdges_cellmeans_shakB2[:,1])):\n",
    "    ax.scatter(1 + np.random.random(1) * w/2 - w/4,SQWEdges_cellmeans_shakB2[i,1], s=10, color='0.4', alpha=0.6, zorder = 2)\n",
    "for i in range(len(SQWEdges_cellmeans_shakB_RNAi[:,1])):\n",
    "    ax.scatter(2 + np.random.random(1) * w/2 - w/4,SQWEdges_cellmeans_shakB_RNAi[i,1], s=10, color='0.4', alpha=0.6, zorder = 2)      \n",
    "\n",
    "ax.spines[\"top\"].set_visible(False)\n",
    "ax.spines[\"right\"].set_visible(False)\n",
    "ax.set_ylabel('Response [mV]', size=11)\n",
    "ax.set_xticks([0,1,2])\n",
    "ax.set_xticklabels(('','OFF PD',''), size=11)\n",
    "plt.ylim([-1,14])\n",
    "\n",
    "plt.savefig('SQWEdges_PD_barplot.pdf',bbox_inches='tight', format='pdf')\n",
    "plt.show()"
   ]
  },
  {
   "cell_type": "code",
   "execution_count": 5,
   "metadata": {},
   "outputs": [
    {
     "data": {
      "text/plain": [
       "Ttest_indResult(statistic=4.45251170783317, pvalue=8.758379101144178e-05)"
      ]
     },
     "execution_count": 5,
     "metadata": {},
     "output_type": "execute_result"
    }
   ],
   "source": [
    "stats.ttest_ind(SQWEdges_cellmeans_Ctrl[:,0], SQWEdges_cellmeans_shakB2[:,0], axis=0, equal_var=False)"
   ]
  }
 ],
 "metadata": {
  "kernelspec": {
   "display_name": "Python 2",
   "language": "python",
   "name": "python2"
  },
  "language_info": {
   "codemirror_mode": {
    "name": "ipython",
    "version": 2
   },
   "file_extension": ".py",
   "mimetype": "text/x-python",
   "name": "python",
   "nbconvert_exporter": "python",
   "pygments_lexer": "ipython2",
   "version": "2.7.15"
  }
 },
 "nbformat": 4,
 "nbformat_minor": 2
}
